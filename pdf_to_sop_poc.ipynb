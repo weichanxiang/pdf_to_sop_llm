{
  "nbformat": 4,
  "nbformat_minor": 0,
  "metadata": {
    "colab": {
      "provenance": []
    },
    "kernelspec": {
      "name": "python3",
      "display_name": "Python 3"
    },
    "language_info": {
      "name": "python"
    }
  },
  "cells": [
    {
      "cell_type": "markdown",
      "source": [
        "# PDF Manual to SOP creation \n",
        "Details see [here](https://docs.google.com/document/d/1l-2EdPYP0_R5SOJuKoiyLypdzArFpDHG4fPG8Xz40RE/edit?usp=sharing)\n",
        "\n",
        "Code referenced from OpenAI cookbook [Question Answering using Embeddings](https://github.com/openai/openai-cookbook/blob/main/examples/Question_answering_using_embeddings.ipynb)"
      ],
      "metadata": {
        "id": "mSY9cJTIFd0z"
      }
    },
    {
      "cell_type": "markdown",
      "source": [
        "Test PDF for microwave operation taken from [here](https://fs.panasonic.com/pdf/user_manual/Convection/NE-C1275/A00033C5ABP_140922.pdf)"
      ],
      "metadata": {
        "id": "YW4YhJ3QTQZ6"
      }
    },
    {
      "cell_type": "markdown",
      "source": [
        "**Items still to be addressed:**\n",
        "\n",
        "*   Prompt engineering to get to more of the SOP format/tone\n",
        "* Add reference section to link back to page numbers where information is extracted from - done\n",
        "*   Considering SOP creation context: how to handle if filtered input context is still longer than max tokens for chatGPT\n",
        "* How to consider pictures and diagrams \n",
        "* PDF extraction still need a better way to preprocess sections/headings \n",
        "* Better embeddings search if required \n",
        "\n",
        "**Bugs:**\n",
        "\n",
        "* Fix API call backoff - done \n",
        "* Switch token counting to tiktoken - done\n",
        "* Need to ensure headings/index is not duplicated - for now just drop duplicates\n",
        "\n",
        "**TODO:**\n",
        "* Write a \"what this does\" section\n",
        "* Deploy to somewhere for ppl to try - framework is done\n",
        "* Refactor to have major code in functions as much as possible to split outputs - mostly done\n",
        "\n"
      ],
      "metadata": {
        "id": "idheEjNMGKFh"
      }
    },
    {
      "cell_type": "markdown",
      "source": [
        "## Aesthetics"
      ],
      "metadata": {
        "id": "DJTD-OQ9UiS8"
      }
    },
    {
      "cell_type": "code",
      "source": [
        "# Notebook-only\n",
        "from IPython.display import HTML, display\n",
        "\n",
        "def set_css():\n",
        "  display(HTML('''\n",
        "  <style>\n",
        "    pre {\n",
        "        white-space: pre-wrap;\n",
        "    }\n",
        "  </style>\n",
        "  '''))\n",
        "get_ipython().events.register('pre_run_cell', set_css)"
      ],
      "metadata": {
        "id": "SBic2t0iQ6Or"
      },
      "execution_count": 1,
      "outputs": []
    },
    {
      "cell_type": "markdown",
      "source": [
        "## Import dependencies"
      ],
      "metadata": {
        "id": "-GA4X-5TFH7Q"
      }
    },
    {
      "cell_type": "code",
      "source": [
        "# Notebook-only\n",
        "!pip install openai tiktoken PyPDF2"
      ],
      "metadata": {
        "id": "qddPGmScGD_R",
        "colab": {
          "base_uri": "https://localhost:8080/",
          "height": 746
        },
        "outputId": "5d351438-2109-4b36-d539-6483cc7301c5"
      },
      "execution_count": 4,
      "outputs": [
        {
          "output_type": "display_data",
          "data": {
            "text/plain": [
              "<IPython.core.display.HTML object>"
            ],
            "text/html": [
              "\n",
              "  <style>\n",
              "    pre {\n",
              "        white-space: pre-wrap;\n",
              "    }\n",
              "  </style>\n",
              "  "
            ]
          },
          "metadata": {}
        },
        {
          "output_type": "stream",
          "name": "stdout",
          "text": [
            "Looking in indexes: https://pypi.org/simple, https://us-python.pkg.dev/colab-wheels/public/simple/\n",
            "Collecting openai\n",
            "  Downloading openai-0.27.0-py3-none-any.whl (70 kB)\n",
            "\u001b[2K     \u001b[90m━━━━━━━━━━━━━━━━━━━━━━━━━━━━━━━━━━━━━━━━\u001b[0m \u001b[32m70.1/70.1 KB\u001b[0m \u001b[31m4.8 MB/s\u001b[0m eta \u001b[36m0:00:00\u001b[0m\n",
            "\u001b[?25hCollecting tiktoken\n",
            "  Downloading tiktoken-0.3.0-cp38-cp38-manylinux_2_17_x86_64.manylinux2014_x86_64.whl (1.6 MB)\n",
            "\u001b[2K     \u001b[90m━━━━━━━━━━━━━━━━━━━━━━━━━━━━━━━━━━━━━━━━\u001b[0m \u001b[32m1.6/1.6 MB\u001b[0m \u001b[31m50.7 MB/s\u001b[0m eta \u001b[36m0:00:00\u001b[0m\n",
            "\u001b[?25hCollecting PyPDF2\n",
            "  Downloading pypdf2-3.0.1-py3-none-any.whl (232 kB)\n",
            "\u001b[2K     \u001b[90m━━━━━━━━━━━━━━━━━━━━━━━━━━━━━━━━━━━━━━\u001b[0m \u001b[32m232.6/232.6 KB\u001b[0m \u001b[31m24.4 MB/s\u001b[0m eta \u001b[36m0:00:00\u001b[0m\n",
            "\u001b[?25hRequirement already satisfied: requests>=2.20 in /usr/local/lib/python3.8/dist-packages (from openai) (2.25.1)\n",
            "Requirement already satisfied: tqdm in /usr/local/lib/python3.8/dist-packages (from openai) (4.64.1)\n",
            "Requirement already satisfied: aiohttp in /usr/local/lib/python3.8/dist-packages (from openai) (3.8.4)\n",
            "Requirement already satisfied: regex>=2022.1.18 in /usr/local/lib/python3.8/dist-packages (from tiktoken) (2022.6.2)\n",
            "Collecting requests>=2.20\n",
            "  Downloading requests-2.28.2-py3-none-any.whl (62 kB)\n",
            "\u001b[2K     \u001b[90m━━━━━━━━━━━━━━━━━━━━━━━━━━━━━━━━━━━━━━━━\u001b[0m \u001b[32m62.8/62.8 KB\u001b[0m \u001b[31m7.8 MB/s\u001b[0m eta \u001b[36m0:00:00\u001b[0m\n",
            "\u001b[?25hCollecting blobfile>=2\n",
            "  Downloading blobfile-2.0.1-py3-none-any.whl (73 kB)\n",
            "\u001b[2K     \u001b[90m━━━━━━━━━━━━━━━━━━━━━━━━━━━━━━━━━━━━━━━━\u001b[0m \u001b[32m73.5/73.5 KB\u001b[0m \u001b[31m7.6 MB/s\u001b[0m eta \u001b[36m0:00:00\u001b[0m\n",
            "\u001b[?25hRequirement already satisfied: typing_extensions>=3.10.0.0 in /usr/local/lib/python3.8/dist-packages (from PyPDF2) (4.5.0)\n",
            "Collecting pycryptodomex~=3.8\n",
            "  Downloading pycryptodomex-3.17-cp35-abi3-manylinux_2_17_x86_64.manylinux2014_x86_64.whl (2.1 MB)\n",
            "\u001b[2K     \u001b[90m━━━━━━━━━━━━━━━━━━━━━━━━━━━━━━━━━━━━━━━━\u001b[0m \u001b[32m2.1/2.1 MB\u001b[0m \u001b[31m78.5 MB/s\u001b[0m eta \u001b[36m0:00:00\u001b[0m\n",
            "\u001b[?25hRequirement already satisfied: lxml~=4.9 in /usr/local/lib/python3.8/dist-packages (from blobfile>=2->tiktoken) (4.9.2)\n",
            "Requirement already satisfied: filelock~=3.0 in /usr/local/lib/python3.8/dist-packages (from blobfile>=2->tiktoken) (3.9.0)\n",
            "Requirement already satisfied: urllib3<3,>=1.25.3 in /usr/local/lib/python3.8/dist-packages (from blobfile>=2->tiktoken) (1.26.14)\n",
            "Requirement already satisfied: charset-normalizer<4,>=2 in /usr/local/lib/python3.8/dist-packages (from requests>=2.20->openai) (3.0.1)\n",
            "Requirement already satisfied: idna<4,>=2.5 in /usr/local/lib/python3.8/dist-packages (from requests>=2.20->openai) (2.10)\n",
            "Requirement already satisfied: certifi>=2017.4.17 in /usr/local/lib/python3.8/dist-packages (from requests>=2.20->openai) (2022.12.7)\n",
            "Requirement already satisfied: multidict<7.0,>=4.5 in /usr/local/lib/python3.8/dist-packages (from aiohttp->openai) (6.0.4)\n",
            "Requirement already satisfied: yarl<2.0,>=1.0 in /usr/local/lib/python3.8/dist-packages (from aiohttp->openai) (1.8.2)\n",
            "Requirement already satisfied: frozenlist>=1.1.1 in /usr/local/lib/python3.8/dist-packages (from aiohttp->openai) (1.3.3)\n",
            "Requirement already satisfied: async-timeout<5.0,>=4.0.0a3 in /usr/local/lib/python3.8/dist-packages (from aiohttp->openai) (4.0.2)\n",
            "Requirement already satisfied: aiosignal>=1.1.2 in /usr/local/lib/python3.8/dist-packages (from aiohttp->openai) (1.3.1)\n",
            "Requirement already satisfied: attrs>=17.3.0 in /usr/local/lib/python3.8/dist-packages (from aiohttp->openai) (22.2.0)\n",
            "Installing collected packages: requests, PyPDF2, pycryptodomex, blobfile, tiktoken, openai\n",
            "  Attempting uninstall: requests\n",
            "    Found existing installation: requests 2.25.1\n",
            "    Uninstalling requests-2.25.1:\n",
            "      Successfully uninstalled requests-2.25.1\n",
            "Successfully installed PyPDF2-3.0.1 blobfile-2.0.1 openai-0.27.0 pycryptodomex-3.17 requests-2.28.2 tiktoken-0.3.0\n"
          ]
        }
      ]
    },
    {
      "cell_type": "code",
      "source": [
        "import pandas as pd\n",
        "import tiktoken\n",
        "import PyPDF2\n",
        "import numpy as np\n",
        "import time\n",
        "import json\n",
        "import openai\n",
        "import pickle\n",
        "import tenacity"
      ],
      "metadata": {
        "id": "d4Hyr4QeHOTM",
        "colab": {
          "base_uri": "https://localhost:8080/",
          "height": 17
        },
        "outputId": "d752f4b1-d3c1-45e7-f565-3db7988b8e7d"
      },
      "execution_count": 35,
      "outputs": [
        {
          "output_type": "display_data",
          "data": {
            "text/plain": [
              "<IPython.core.display.HTML object>"
            ],
            "text/html": [
              "\n",
              "  <style>\n",
              "    pre {\n",
              "        white-space: pre-wrap;\n",
              "    }\n",
              "  </style>\n",
              "  "
            ]
          },
          "metadata": {}
        }
      ]
    },
    {
      "cell_type": "code",
      "source": [
        "# App-modify\n",
        "# Based on user input\n",
        "PDF_FILE = 'microwave.pdf'\n",
        "PROCESSED_FILE = \"processed.csv\"\n",
        "EMBEDDING_FILE = \"embeddings.csv\"\n",
        "QUERY2 = \"How to turn on the microwave\"\n",
        "QUERY = \"A part of my food heats up but the other part doesn\\'t, what do I do?\"\n",
        "\n",
        "# Defaults\n",
        "EMBEDDING_MODEL = \"text-embedding-ada-002\"\n",
        "COMPLETIONS_MODEL = \"gpt-3.5-turbo\"   # \"text-davinci-003\"\n",
        "ENCODING = \"cl100k_base\"  # encoding for ChatGPT models\n",
        "\n",
        "# Prompt defaults\n",
        "PROMPT_HEADER = \"\"\"Answer the question as truthfully as possible using the provided context, and if the answer is not contained within the text below, say \"I don't know.\"\\n\\nContext:\\n\"\"\"\n",
        "MAX_SECTION_LEN = 1500  # 2000 for context incl. rest of prompt, save 2000 for completion \n",
        "\n",
        "CHAT_COMPLETIONS_API_PARAMS = {\n",
        "    # We use temperature of 0.0 because it gives the most predictable, factual answer.\n",
        "    \"temperature\": 0.0,\n",
        "    \"max_tokens\": 2000,\n",
        "    \"model\": COMPLETIONS_MODEL,\n",
        "}\n",
        "\n",
        "BASE_MESSAGE = [{\"role\": \"system\", \"content\": \"You are a kind helpful assistant\"}]"
      ],
      "metadata": {
        "id": "ObN5smjUHU3T",
        "colab": {
          "base_uri": "https://localhost:8080/",
          "height": 17
        },
        "outputId": "bea6fde5-7c31-4c40-e479-7ea0b3be9f67"
      },
      "execution_count": 92,
      "outputs": [
        {
          "output_type": "display_data",
          "data": {
            "text/plain": [
              "<IPython.core.display.HTML object>"
            ],
            "text/html": [
              "\n",
              "  <style>\n",
              "    pre {\n",
              "        white-space: pre-wrap;\n",
              "    }\n",
              "  </style>\n",
              "  "
            ]
          },
          "metadata": {}
        }
      ]
    },
    {
      "cell_type": "code",
      "source": [
        "# App-modify\n",
        "with open('token.json') as f:\n",
        "    data = json.load(f)\n",
        "    key = data['OPENAI_TOKEN']\n",
        "\n",
        "openai.api_key = key"
      ],
      "metadata": {
        "colab": {
          "base_uri": "https://localhost:8080/",
          "height": 17
        },
        "id": "bzCZaBXSXapz",
        "outputId": "a10f65ab-7aa9-4095-deab-b4ca455fcc34"
      },
      "execution_count": 37,
      "outputs": [
        {
          "output_type": "display_data",
          "data": {
            "text/plain": [
              "<IPython.core.display.HTML object>"
            ],
            "text/html": [
              "\n",
              "  <style>\n",
              "    pre {\n",
              "        white-space: pre-wrap;\n",
              "    }\n",
              "  </style>\n",
              "  "
            ]
          },
          "metadata": {}
        }
      ]
    },
    {
      "cell_type": "markdown",
      "source": [
        "## PDF text extraction and preprocessing"
      ],
      "metadata": {
        "id": "9RY_CwwYHDTA"
      }
    },
    {
      "cell_type": "code",
      "source": [
        "# PDF extraction and preprocessing helper functions\n",
        "\n",
        "def extract_pdf(pdf_data):\n",
        "  # For now, each page is treated as a separate section of content and the first \n",
        "  # sentence of the page is treated as the heading \n",
        "  pdf_reader = PyPDF2.PdfReader(pdf_data)\n",
        "\n",
        "  # Extract the text content from the PDF\n",
        "  headings = []\n",
        "  contents = []\n",
        "  pg_nums = []\n",
        "  for page in range(max(0,pg_start-1), min(pg_end, len(pdf_reader.pages))):\n",
        "      text_content = pdf_reader.pages[page].extract_text()\n",
        "      headings.append(text_content.split('\\n')[0])\n",
        "      contents.append(text_content)\n",
        "      pg_nums.append(page + 1)  # start at pg 1\n",
        "\n",
        "  # Create a Pandas dataframe from the headings and content\n",
        "  return pd.DataFrame({'heading': headings, 'content': contents, 'pg_number': pg_nums})\n",
        "\n",
        "def num_tokens_from_string(string, encoding_name):\n",
        "  \"\"\"Returns the number of tokens in a text string.\"\"\"\n",
        "  encoding = tiktoken.get_encoding(encoding_name)\n",
        "  num_tokens = len(encoding.encode(string))\n",
        "  return num_tokens\n",
        "\n",
        "def count_tokens(df):\n",
        "  # encoding = tiktoken.encoding_for_model('gpt-3.5-turbo')\n",
        "  return df.apply(lambda x: num_tokens_from_string(x.content, \"cl100k_base\"), axis=1)\n",
        "  # pdf_sections.nlargest(n=3, columns='tokens')\n",
        "\n",
        "def preprocess_pdf_data(pdf_file):\n",
        "  pdf_sections = extract_pdf(pdf_file)\n",
        "  # basic text processing - this can be improved later\n",
        "  pdf_sections.replace('\\n',' ', regex=True, inplace=True)           # replace new line characters with space\n",
        "  pdf_sections.replace(r'^(\\d+)', '', regex=True, inplace=True)      # remove any leading numeric characters\n",
        "  pdf_sections[\"tokens\"] = count_tokens(pdf_sections)\n",
        "  pdf_sections.drop_duplicates(subset=[\"heading\"], keep=\"first\", inplace=True)\n",
        "  return pdf_sections"
      ],
      "metadata": {
        "id": "GaDUHhKPHHL2",
        "colab": {
          "base_uri": "https://localhost:8080/",
          "height": 17
        },
        "outputId": "f630827f-7e89-44d3-ecc5-27cb22cffa4e"
      },
      "execution_count": 72,
      "outputs": [
        {
          "output_type": "display_data",
          "data": {
            "text/plain": [
              "<IPython.core.display.HTML object>"
            ],
            "text/html": [
              "\n",
              "  <style>\n",
              "    pre {\n",
              "        white-space: pre-wrap;\n",
              "    }\n",
              "  </style>\n",
              "  "
            ]
          },
          "metadata": {}
        }
      ]
    },
    {
      "cell_type": "code",
      "source": [
        "# App-modify\n",
        "# Open the PDF file in binary mode\n",
        "with open(PDF_FILE, 'rb') as pdf_file:\n",
        "  # Create a PDF reader object\n",
        "  pdf_sections = preprocess_pdf_data(pdf_file)\n",
        "\n",
        "# App-modify\n",
        "# save as CSV to be loaded later\n",
        "pdf_sections.to_csv(PROCESSED_FILE, index=False)"
      ],
      "metadata": {
        "colab": {
          "base_uri": "https://localhost:8080/",
          "height": 17
        },
        "id": "pK9WTEmYImqi",
        "outputId": "2e192079-e39f-4917-f1ce-d9f8c7182b97"
      },
      "execution_count": 79,
      "outputs": [
        {
          "output_type": "display_data",
          "data": {
            "text/plain": [
              "<IPython.core.display.HTML object>"
            ],
            "text/html": [
              "\n",
              "  <style>\n",
              "    pre {\n",
              "        white-space: pre-wrap;\n",
              "    }\n",
              "  </style>\n",
              "  "
            ]
          },
          "metadata": {}
        }
      ]
    },
    {
      "cell_type": "code",
      "source": [
        "# App-modify\n",
        "pdf_sections = pd.read_csv(PROCESSED_FILE)"
      ],
      "metadata": {
        "colab": {
          "base_uri": "https://localhost:8080/",
          "height": 17
        },
        "id": "Id9dkePSI4W0",
        "outputId": "d3ece435-fb12-473f-b713-93a2d93cc9f0"
      },
      "execution_count": 80,
      "outputs": [
        {
          "output_type": "display_data",
          "data": {
            "text/plain": [
              "<IPython.core.display.HTML object>"
            ],
            "text/html": [
              "\n",
              "  <style>\n",
              "    pre {\n",
              "        white-space: pre-wrap;\n",
              "    }\n",
              "  </style>\n",
              "  "
            ]
          },
          "metadata": {}
        }
      ]
    },
    {
      "cell_type": "code",
      "source": [
        "# set column index for future search \n",
        "pdf_sections.set_index(\"heading\", inplace=True)"
      ],
      "metadata": {
        "id": "bkn2kqU9Jd3I",
        "colab": {
          "base_uri": "https://localhost:8080/",
          "height": 17
        },
        "outputId": "b105c8ac-f4e0-4e53-bb2b-9d44dd356f99"
      },
      "execution_count": 81,
      "outputs": [
        {
          "output_type": "display_data",
          "data": {
            "text/plain": [
              "<IPython.core.display.HTML object>"
            ],
            "text/html": [
              "\n",
              "  <style>\n",
              "    pre {\n",
              "        white-space: pre-wrap;\n",
              "    }\n",
              "  </style>\n",
              "  "
            ]
          },
          "metadata": {}
        }
      ]
    },
    {
      "cell_type": "code",
      "source": [
        "# App-modify\n",
        "# final preprocessed data\n",
        "pdf_sections.sample(5)"
      ],
      "metadata": {
        "colab": {
          "base_uri": "https://localhost:8080/",
          "height": 238
        },
        "id": "OqE10F0iJqUB",
        "outputId": "ec4f88b9-6afd-4367-bc1d-939aa636fca1"
      },
      "execution_count": 82,
      "outputs": [
        {
          "output_type": "display_data",
          "data": {
            "text/plain": [
              "<IPython.core.display.HTML object>"
            ],
            "text/html": [
              "\n",
              "  <style>\n",
              "    pre {\n",
              "        white-space: pre-wrap;\n",
              "    }\n",
              "  </style>\n",
              "  "
            ]
          },
          "metadata": {}
        },
        {
          "output_type": "execute_result",
          "data": {
            "text/plain": [
              "                                                                                      content  \\\n",
              "heading                                                                                         \n",
              "How to Change the Beep Tone                 How to Change the Beep Tone INFORMATION ACTION...   \n",
              "NOTES:                                      NOTES: DO NOT attempt to reheat any food that ...   \n",
              "CAUTION                                     CAUTION 1. To reduce the risk of burns, electr...   \n",
              "SD Memory Card Part No. RP-SD016BCS0        SD Memory Card Part No. RP-SD016BCS0 An SD Mem...   \n",
              "CONTROLS TO USE INFORMATION ACTION DISPLAY  CONTROLS TO USE INFORMATION ACTION DISPLAY 1Op...   \n",
              "\n",
              "                                            pg_number  tokens  \n",
              "heading                                                        \n",
              "How to Change the Beep Tone                        38     119  \n",
              "NOTES:                                             65     663  \n",
              "CAUTION                                             6     472  \n",
              "SD Memory Card Part No. RP-SD016BCS0               15     375  \n",
              "CONTROLS TO USE INFORMATION ACTION DISPLAY         32     254  "
            ],
            "text/html": [
              "\n",
              "  <div id=\"df-0f72ffb7-28f9-4b3f-b532-f893b5b65ba5\">\n",
              "    <div class=\"colab-df-container\">\n",
              "      <div>\n",
              "<style scoped>\n",
              "    .dataframe tbody tr th:only-of-type {\n",
              "        vertical-align: middle;\n",
              "    }\n",
              "\n",
              "    .dataframe tbody tr th {\n",
              "        vertical-align: top;\n",
              "    }\n",
              "\n",
              "    .dataframe thead th {\n",
              "        text-align: right;\n",
              "    }\n",
              "</style>\n",
              "<table border=\"1\" class=\"dataframe\">\n",
              "  <thead>\n",
              "    <tr style=\"text-align: right;\">\n",
              "      <th></th>\n",
              "      <th>content</th>\n",
              "      <th>pg_number</th>\n",
              "      <th>tokens</th>\n",
              "    </tr>\n",
              "    <tr>\n",
              "      <th>heading</th>\n",
              "      <th></th>\n",
              "      <th></th>\n",
              "      <th></th>\n",
              "    </tr>\n",
              "  </thead>\n",
              "  <tbody>\n",
              "    <tr>\n",
              "      <th>How to Change the Beep Tone</th>\n",
              "      <td>How to Change the Beep Tone INFORMATION ACTION...</td>\n",
              "      <td>38</td>\n",
              "      <td>119</td>\n",
              "    </tr>\n",
              "    <tr>\n",
              "      <th>NOTES:</th>\n",
              "      <td>NOTES: DO NOT attempt to reheat any food that ...</td>\n",
              "      <td>65</td>\n",
              "      <td>663</td>\n",
              "    </tr>\n",
              "    <tr>\n",
              "      <th>CAUTION</th>\n",
              "      <td>CAUTION 1. To reduce the risk of burns, electr...</td>\n",
              "      <td>6</td>\n",
              "      <td>472</td>\n",
              "    </tr>\n",
              "    <tr>\n",
              "      <th>SD Memory Card Part No. RP-SD016BCS0</th>\n",
              "      <td>SD Memory Card Part No. RP-SD016BCS0 An SD Mem...</td>\n",
              "      <td>15</td>\n",
              "      <td>375</td>\n",
              "    </tr>\n",
              "    <tr>\n",
              "      <th>CONTROLS TO USE INFORMATION ACTION DISPLAY</th>\n",
              "      <td>CONTROLS TO USE INFORMATION ACTION DISPLAY 1Op...</td>\n",
              "      <td>32</td>\n",
              "      <td>254</td>\n",
              "    </tr>\n",
              "  </tbody>\n",
              "</table>\n",
              "</div>\n",
              "      <button class=\"colab-df-convert\" onclick=\"convertToInteractive('df-0f72ffb7-28f9-4b3f-b532-f893b5b65ba5')\"\n",
              "              title=\"Convert this dataframe to an interactive table.\"\n",
              "              style=\"display:none;\">\n",
              "        \n",
              "  <svg xmlns=\"http://www.w3.org/2000/svg\" height=\"24px\"viewBox=\"0 0 24 24\"\n",
              "       width=\"24px\">\n",
              "    <path d=\"M0 0h24v24H0V0z\" fill=\"none\"/>\n",
              "    <path d=\"M18.56 5.44l.94 2.06.94-2.06 2.06-.94-2.06-.94-.94-2.06-.94 2.06-2.06.94zm-11 1L8.5 8.5l.94-2.06 2.06-.94-2.06-.94L8.5 2.5l-.94 2.06-2.06.94zm10 10l.94 2.06.94-2.06 2.06-.94-2.06-.94-.94-2.06-.94 2.06-2.06.94z\"/><path d=\"M17.41 7.96l-1.37-1.37c-.4-.4-.92-.59-1.43-.59-.52 0-1.04.2-1.43.59L10.3 9.45l-7.72 7.72c-.78.78-.78 2.05 0 2.83L4 21.41c.39.39.9.59 1.41.59.51 0 1.02-.2 1.41-.59l7.78-7.78 2.81-2.81c.8-.78.8-2.07 0-2.86zM5.41 20L4 18.59l7.72-7.72 1.47 1.35L5.41 20z\"/>\n",
              "  </svg>\n",
              "      </button>\n",
              "      \n",
              "  <style>\n",
              "    .colab-df-container {\n",
              "      display:flex;\n",
              "      flex-wrap:wrap;\n",
              "      gap: 12px;\n",
              "    }\n",
              "\n",
              "    .colab-df-convert {\n",
              "      background-color: #E8F0FE;\n",
              "      border: none;\n",
              "      border-radius: 50%;\n",
              "      cursor: pointer;\n",
              "      display: none;\n",
              "      fill: #1967D2;\n",
              "      height: 32px;\n",
              "      padding: 0 0 0 0;\n",
              "      width: 32px;\n",
              "    }\n",
              "\n",
              "    .colab-df-convert:hover {\n",
              "      background-color: #E2EBFA;\n",
              "      box-shadow: 0px 1px 2px rgba(60, 64, 67, 0.3), 0px 1px 3px 1px rgba(60, 64, 67, 0.15);\n",
              "      fill: #174EA6;\n",
              "    }\n",
              "\n",
              "    [theme=dark] .colab-df-convert {\n",
              "      background-color: #3B4455;\n",
              "      fill: #D2E3FC;\n",
              "    }\n",
              "\n",
              "    [theme=dark] .colab-df-convert:hover {\n",
              "      background-color: #434B5C;\n",
              "      box-shadow: 0px 1px 3px 1px rgba(0, 0, 0, 0.15);\n",
              "      filter: drop-shadow(0px 1px 2px rgba(0, 0, 0, 0.3));\n",
              "      fill: #FFFFFF;\n",
              "    }\n",
              "  </style>\n",
              "\n",
              "      <script>\n",
              "        const buttonEl =\n",
              "          document.querySelector('#df-0f72ffb7-28f9-4b3f-b532-f893b5b65ba5 button.colab-df-convert');\n",
              "        buttonEl.style.display =\n",
              "          google.colab.kernel.accessAllowed ? 'block' : 'none';\n",
              "\n",
              "        async function convertToInteractive(key) {\n",
              "          const element = document.querySelector('#df-0f72ffb7-28f9-4b3f-b532-f893b5b65ba5');\n",
              "          const dataTable =\n",
              "            await google.colab.kernel.invokeFunction('convertToInteractive',\n",
              "                                                     [key], {});\n",
              "          if (!dataTable) return;\n",
              "\n",
              "          const docLinkHtml = 'Like what you see? Visit the ' +\n",
              "            '<a target=\"_blank\" href=https://colab.research.google.com/notebooks/data_table.ipynb>data table notebook</a>'\n",
              "            + ' to learn more about interactive tables.';\n",
              "          element.innerHTML = '';\n",
              "          dataTable['output_type'] = 'display_data';\n",
              "          await google.colab.output.renderOutput(dataTable, element);\n",
              "          const docLink = document.createElement('div');\n",
              "          docLink.innerHTML = docLinkHtml;\n",
              "          element.appendChild(docLink);\n",
              "        }\n",
              "      </script>\n",
              "    </div>\n",
              "  </div>\n",
              "  "
            ]
          },
          "metadata": {},
          "execution_count": 82
        }
      ]
    },
    {
      "cell_type": "markdown",
      "source": [
        "## Create embeddings from PDF content "
      ],
      "metadata": {
        "id": "5zaYxS0KIS-y"
      }
    },
    {
      "cell_type": "code",
      "source": [
        "from tenacity import (\n",
        "    retry,\n",
        "    stop_after_attempt,\n",
        "    wait_random_exponential,\n",
        ")  # for exponential backoff\n",
        "\n",
        "@retry(wait=wait_random_exponential(min=1, max=60), stop=stop_after_attempt(10))\n",
        "def get_embedding(text):\n",
        "    result = openai.Embedding.create(\n",
        "      model=EMBEDDING_MODEL,\n",
        "      input=text\n",
        "    )\n",
        "    # time.sleep(2)  # force sleep 2 seconds for now \n",
        "    return result[\"data\"][0][\"embedding\"]\n",
        "\n",
        "def compute_doc_embeddings(df):\n",
        "    \"\"\"\n",
        "    Create an embedding for each row in the dataframe using the OpenAI Embeddings API.\n",
        "    \n",
        "    Return a dictionary that maps between each embedding vector and the index of the row that it corresponds to.\n",
        "    \"\"\"\n",
        "    return {\n",
        "        idx: get_embedding(r.content) for idx, r in df.iterrows()\n",
        "    }\n",
        "\n",
        "def load_embeddings(fname):\n",
        "    \"\"\"\n",
        "    Read the document embeddings and their keys from a CSV.\n",
        "    \n",
        "    fname is the path to a CSV with exactly these named columns: \n",
        "        \"heading\", \"0\", \"1\", ... up to the length of the embedding vectors.\n",
        "    \"\"\"\n",
        "    \n",
        "    df = pd.read_csv(fname, header=0)\n",
        "    max_dim = max([int(c) for c in df.columns if c != \"heading\"])\n",
        "    return {\n",
        "           (r.title, r.heading): [r[str(i)] for i in range(max_dim + 1)] for _, r in df.iterrows()\n",
        "    }"
      ],
      "metadata": {
        "id": "VhTNaUt1KTDG",
        "colab": {
          "base_uri": "https://localhost:8080/",
          "height": 17
        },
        "outputId": "6c2b6a30-a40b-432a-c274-a8986673755d"
      },
      "execution_count": 16,
      "outputs": [
        {
          "output_type": "display_data",
          "data": {
            "text/plain": [
              "<IPython.core.display.HTML object>"
            ],
            "text/html": [
              "\n",
              "  <style>\n",
              "    pre {\n",
              "        white-space: pre-wrap;\n",
              "    }\n",
              "  </style>\n",
              "  "
            ]
          },
          "metadata": {}
        }
      ]
    },
    {
      "cell_type": "code",
      "source": [
        "# App-modify\n",
        "# compute embeddings\n",
        "document_embeddings = compute_doc_embeddings(pdf_sections)"
      ],
      "metadata": {
        "id": "NYsqL655Lg9G",
        "colab": {
          "base_uri": "https://localhost:8080/",
          "height": 17
        },
        "outputId": "b5f4df2f-58e8-4cdd-df88-6717d6c843e7"
      },
      "execution_count": 17,
      "outputs": [
        {
          "output_type": "display_data",
          "data": {
            "text/plain": [
              "<IPython.core.display.HTML object>"
            ],
            "text/html": [
              "\n",
              "  <style>\n",
              "    pre {\n",
              "        white-space: pre-wrap;\n",
              "    }\n",
              "  </style>\n",
              "  "
            ]
          },
          "metadata": {}
        }
      ]
    },
    {
      "cell_type": "code",
      "source": [
        "# App-modify\n",
        "# saving embeddings for future load\n",
        "pd.DataFrame.from_dict(document_embeddings, orient=\"index\").to_csv(EMBEDDING_FILE)"
      ],
      "metadata": {
        "id": "dOtIaI67MSN5",
        "colab": {
          "base_uri": "https://localhost:8080/",
          "height": 17
        },
        "outputId": "442be8de-2004-4c08-b0d1-ab1547f7faef"
      },
      "execution_count": 18,
      "outputs": [
        {
          "output_type": "display_data",
          "data": {
            "text/plain": [
              "<IPython.core.display.HTML object>"
            ],
            "text/html": [
              "\n",
              "  <style>\n",
              "    pre {\n",
              "        white-space: pre-wrap;\n",
              "    }\n",
              "  </style>\n",
              "  "
            ]
          },
          "metadata": {}
        }
      ]
    },
    {
      "cell_type": "code",
      "source": [
        "# App-modify\n",
        "# load embedding\n",
        "embeddings_raw = pd.read_csv(EMBEDDING_FILE)\n",
        "embeddings_raw.columns.values[0] = \"heading\"\n",
        "embeddings_raw.set_index(\"heading\", inplace=True)\n",
        "document_embeddings = embeddings_raw.T.to_dict('list')"
      ],
      "metadata": {
        "id": "RjwT816kMogB",
        "colab": {
          "base_uri": "https://localhost:8080/",
          "height": 17
        },
        "outputId": "3044333d-7cc4-4319-d3a1-c46b629454ac"
      },
      "execution_count": 19,
      "outputs": [
        {
          "output_type": "display_data",
          "data": {
            "text/plain": [
              "<IPython.core.display.HTML object>"
            ],
            "text/html": [
              "\n",
              "  <style>\n",
              "    pre {\n",
              "        white-space: pre-wrap;\n",
              "    }\n",
              "  </style>\n",
              "  "
            ]
          },
          "metadata": {}
        }
      ]
    },
    {
      "cell_type": "code",
      "source": [
        "# An example embedding:\n",
        "example_entry = list(document_embeddings.items())[0]\n",
        "print(f\"{example_entry[0]} : {example_entry[1][:5]}... ({len(example_entry[1])} entries)\")"
      ],
      "metadata": {
        "colab": {
          "base_uri": "https://localhost:8080/",
          "height": 34
        },
        "id": "KQNJoJoFMqgb",
        "outputId": "c5e776e5-7a5f-4fdd-dee2-2d3dc93317b9"
      },
      "execution_count": 20,
      "outputs": [
        {
          "output_type": "display_data",
          "data": {
            "text/plain": [
              "<IPython.core.display.HTML object>"
            ],
            "text/html": [
              "\n",
              "  <style>\n",
              "    pre {\n",
              "        white-space: pre-wrap;\n",
              "    }\n",
              "  </style>\n",
              "  "
            ]
          },
          "metadata": {}
        },
        {
          "output_type": "stream",
          "name": "stdout",
          "text": [
            "Operating Instructions and User Guide : [-0.006402482278645, -0.0063926973380148, -0.0111415581777691, -0.0288584623485803, -0.0222439765930175]... (1536 entries)\n"
          ]
        }
      ]
    },
    {
      "cell_type": "markdown",
      "source": [
        "## Find relevant sections based on query"
      ],
      "metadata": {
        "id": "Lc2m3e3UNBqK"
      }
    },
    {
      "cell_type": "code",
      "source": [
        "def vector_similarity(x, y):\n",
        "    \"\"\"\n",
        "    Returns the similarity between two vectors.\n",
        "    \n",
        "    Because OpenAI Embeddings are normalized to length 1, the cosine similarity is the same as the dot product.\n",
        "    \"\"\"\n",
        "    return np.dot(np.array(x), np.array(y))\n",
        "\n",
        "def order_document_sections_by_query_similarity(query, contexts):\n",
        "    \"\"\"\n",
        "    Find the query embedding for the supplied query, and compare it against all of the pre-calculated document embeddings\n",
        "    to find the most relevant sections. \n",
        "    \n",
        "    Return the list of document sections, sorted by relevance in descending order.\n",
        "    \"\"\"\n",
        "    query_embedding = get_embedding(query)\n",
        "    \n",
        "    document_similarities = sorted([\n",
        "        (vector_similarity(query_embedding, doc_embedding), doc_index) for doc_index, doc_embedding in contexts.items()\n",
        "    ], reverse=True)\n",
        "    \n",
        "    return document_similarities"
      ],
      "metadata": {
        "id": "ZQip4HbdNGwB",
        "colab": {
          "base_uri": "https://localhost:8080/",
          "height": 17
        },
        "outputId": "159d0330-4407-4e89-fc09-d011437e648b"
      },
      "execution_count": 21,
      "outputs": [
        {
          "output_type": "display_data",
          "data": {
            "text/plain": [
              "<IPython.core.display.HTML object>"
            ],
            "text/html": [
              "\n",
              "  <style>\n",
              "    pre {\n",
              "        white-space: pre-wrap;\n",
              "    }\n",
              "  </style>\n",
              "  "
            ]
          },
          "metadata": {}
        }
      ]
    },
    {
      "cell_type": "code",
      "source": [
        "# Notebook-only\n",
        "# test embedding similarity search \n",
        "order_document_sections_by_query_similarity(QUERY, document_embeddings)[:5]"
      ],
      "metadata": {
        "colab": {
          "base_uri": "https://localhost:8080/",
          "height": 104
        },
        "id": "SrcOAaePNTyX",
        "outputId": "21ed657c-307d-4d01-b853-71a6c4665d09"
      },
      "execution_count": 77,
      "outputs": [
        {
          "output_type": "display_data",
          "data": {
            "text/plain": [
              "<IPython.core.display.HTML object>"
            ],
            "text/html": [
              "\n",
              "  <style>\n",
              "    pre {\n",
              "        white-space: pre-wrap;\n",
              "    }\n",
              "  </style>\n",
              "  "
            ]
          },
          "metadata": {}
        },
        {
          "output_type": "execute_result",
          "data": {
            "text/plain": [
              "[(0.8364629138645348, 'Common Problems'),\n",
              " (0.8178868241122307, 'Affects of the foodsReheating by Microwave'),\n",
              " (0.8133949885623041, 'Tips for Reheating your own Homemade Foods'),\n",
              " (0.8093917257523815, 'Reheating by Microwave'),\n",
              " (0.8088500052216336, '.Containers')]"
            ]
          },
          "metadata": {},
          "execution_count": 77
        }
      ]
    },
    {
      "cell_type": "markdown",
      "source": [
        "## Construct query"
      ],
      "metadata": {
        "id": "hAcqD7g4PGIM"
      }
    },
    {
      "cell_type": "code",
      "source": [
        "# get context separators to make prompt easier to read\n",
        "SEPARATOR = \"\\n* \"\n",
        "encoding = tiktoken.get_encoding(ENCODING)\n",
        "separator_len = len(encoding.encode(SEPARATOR))"
      ],
      "metadata": {
        "id": "m1sMRKegPsw6",
        "colab": {
          "base_uri": "https://localhost:8080/",
          "height": 17
        },
        "outputId": "2b0ea3ce-6b59-4b2c-d5c3-974a4fe52209"
      },
      "execution_count": 49,
      "outputs": [
        {
          "output_type": "display_data",
          "data": {
            "text/plain": [
              "<IPython.core.display.HTML object>"
            ],
            "text/html": [
              "\n",
              "  <style>\n",
              "    pre {\n",
              "        white-space: pre-wrap;\n",
              "    }\n",
              "  </style>\n",
              "  "
            ]
          },
          "metadata": {}
        }
      ]
    },
    {
      "cell_type": "code",
      "source": [
        "def construct_prompt(question, context_embeddings, df, diagnostic=False):\n",
        "    \"\"\"\n",
        "    Fetch relevant \n",
        "    \"\"\"\n",
        "    most_relevant_document_sections = order_document_sections_by_query_similarity(question, context_embeddings)\n",
        "    \n",
        "    chosen_sections = []\n",
        "    chosen_sections_len = 0\n",
        "    chosen_sections_indexes = []\n",
        "     \n",
        "    for _, section_index in most_relevant_document_sections:\n",
        "        # Add contexts until we run out of space. may want to change this later       \n",
        "        document_section = df.loc[section_index]\n",
        "        # print(section_index, \" \", document_section.tokens)\n",
        "        \n",
        "        chosen_sections_len += document_section.tokens + separator_len\n",
        "        if chosen_sections_len > MAX_SECTION_LEN:\n",
        "            break\n",
        "            \n",
        "        chosen_sections.append(SEPARATOR + document_section.content.replace(\"\\n\", \" \"))\n",
        "        chosen_sections_indexes.append(str(section_index))\n",
        "            \n",
        "    # Useful diagnostic information\n",
        "    if diagnostic:\n",
        "      print(f\"Selected {len(chosen_sections)} document sections:\")\n",
        "      print(\"\\n\".join(chosen_sections_indexes))\n",
        "    \n",
        "    full_prompt = PROMPT_HEADER + \"\".join(chosen_sections) + \"\\n\\n Q: \" + question + \"\\n A:\"\n",
        "\n",
        "    result = {\"prompt\" : full_prompt, \"ref\" : chosen_sections_indexes}\n",
        "    \n",
        "    return result"
      ],
      "metadata": {
        "colab": {
          "base_uri": "https://localhost:8080/",
          "height": 17
        },
        "id": "RgOFd14ZPPdK",
        "outputId": "8e798cf8-b7a6-4c2e-ef78-fcadc34935ad"
      },
      "execution_count": 84,
      "outputs": [
        {
          "output_type": "display_data",
          "data": {
            "text/plain": [
              "<IPython.core.display.HTML object>"
            ],
            "text/html": [
              "\n",
              "  <style>\n",
              "    pre {\n",
              "        white-space: pre-wrap;\n",
              "    }\n",
              "  </style>\n",
              "  "
            ]
          },
          "metadata": {}
        }
      ]
    },
    {
      "cell_type": "code",
      "source": [
        "# Notebook-only\n",
        "prompt = construct_prompt(\n",
        "    QUERY,\n",
        "    document_embeddings,\n",
        "    pdf_sections,\n",
        "    diagnostic=True\n",
        ")\n",
        "\n",
        "print(\"\\n===INPUT PROMPT BELOW===\\n\", prompt)"
      ],
      "metadata": {
        "colab": {
          "base_uri": "https://localhost:8080/",
          "height": 902
        },
        "id": "rws2Tf2EP-Ty",
        "outputId": "715ebaa9-c924-440b-9be5-36277dc921a8"
      },
      "execution_count": 83,
      "outputs": [
        {
          "output_type": "display_data",
          "data": {
            "text/plain": [
              "<IPython.core.display.HTML object>"
            ],
            "text/html": [
              "\n",
              "  <style>\n",
              "    pre {\n",
              "        white-space: pre-wrap;\n",
              "    }\n",
              "  </style>\n",
              "  "
            ]
          },
          "metadata": {}
        },
        {
          "output_type": "stream",
          "name": "stdout",
          "text": [
            "Common Problems   483\n",
            "Affects of the foodsReheating by Microwave   624\n",
            "Tips for Reheating your own Homemade Foods   545\n",
            "Reheating by Microwave   767\n",
            "Selected 3 document sections:\n",
            "Common Problems\n",
            "Affects of the foodsReheating by Microwave\n",
            "Tips for Reheating your own Homemade Foods\n",
            "\n",
            "===INPUT PROMPT BELOW===\n",
            " {'prompt': 'Answer the question as truthfully as possible using the provided context, and if the answer is not contained within the text below, say \"I don\\'t know.\"\\n\\nContext:\\n\\n* Common Problems PROBLEM SOLUTION Food cools quickly after Microwave or Combination cooking. Foods take longer to cook, defrost or reheat than stated. Liquids boil over when cooked by  microwave or combination.Vegetables become wrinkly and hard when cooked/reheated by  microwave.Foods heat unevenly. Only one side of cavity heats. Foods heated by microwave are  hard and tough.Foods “explode” during heating. Foods that have been defrosteddo not heat in the centre.Return to oven for additional cooking. Check oven is plugged into its own 13amp socket. Do not use extension  cable or adapters.The stated times are only a guide.Heating will be improved with the use ofcorrect containers and arranging. Remember to vary the heating, if the  food is colder or heavier than stated.Ensure the oven is cleaned regularly. Use a container twice the volume of the  liquid.Allow standing time when cooking andslightly undercook vegetables, if they  are to be reheated.Arrange foods, so that thicker parts are on the outside of the plate and smaller foods to the centre. Do not heat very dense foods with porous foods as the later will heat faster. Rearrange foods as above. It is impossible for only one side of the cavity to receive microwaves as the energy is distributed by a rotating guide.if the magnetron is no longer working  all food will remain cold.Reduce the time or power with more  delicate foods. Reduce power level.Pierce skins on foods to release pressure build up during heating.  NEVER try to boil eggs in shells.Check that foods are between 1-4°C before going on to reheat. If the edges of the food are getting too warm shield with foil. (See page 49.) CAUSE Food insufficiently heated. Oven not receiving enough power. Food type, size, weight,temperature not exactly as stated. Oven dirty and food debris is absorbing the microwave  energy.Containers too small. Vegetables over-cooked. Foods incorrectly arranged or incompatible foods are being heated together. Foods incorrectly arranged. Foods overcooked. Power level too high.Skins of foods i.e potatoes, chicken are not pierced. Foods have not been sufficiently defrosted orallowed to stand beforereheating.This section tries to solve any common problems you may have. Remember to always keep your Operating Guide on hand for reference.\\n* Affects of the foodsReheating by Microwave 9.Doubling Quantities A reheating time is based on weight and usually atime is given for a particular quantity of food, i.e.11oz Lasagne takes 2 minutes. When the numberof portions to be heated together doubles, then thereheating time will need to be increased by 75-100%. Two portions will take 4 minutes 30seconds to 5 minutes. Generally two lightertextured products such as pastries will take the shorter time, whilsttwo denser products such as Lasagne will take thelonger time. 10.Frozen Foods For speed, some foods can be reheated fromfrozen but they must be foods that can beSTIRRED eg meat sauce, Chilli con Carne. Setthe total reheat time but open the door to stirregularly.DO NOT COVER.AVOID REHEATING solid foods that cannot bestirred, eg Lasagnes/Shepherds Pies from frozen.Avoid reheating PLATED MEALS from frozen. .1.Starting Temperature The colder the food the longer it will take to heat to72°C. Extra time must be allowed if food has beendefrosted as the centre may still be icy. 2.Headspace When heating liquids, ensure they do notcompletely fill their containers; a headspace allowsthe liquids to be stirred during and at the end ofthe heating time without spillage. 3.Covering foods A container covered with either cling film, a plasticplate cover or even the lid to the dish, will heatfractionally faster then an uncovered dish. Do notcover foods which require a drier texture, such aspastries, as the steam that becomes trappedunder the cover will cause the food to go soggy. 4.Crisp Foods Reheat pastry and bread items, such as sausagerolls, pies and croissants, on a plastic rack toreduce the chance of “sogginess”. The rack allowsthe air to circulate beneath the food and removesteam which causes moist, limp pastry. YourPanasonic Combi offers a COMBINATION facilitywhich will help crisp pastry items as they reheat. 5.Uneven shapes When heating uneven shaped pieces of food,place the thick part of one piece against the thinpart of the second. This helps the food to heatmore evenly. 6.Porous Foods/Dense foods Porous foods reheat more quickly than denseheavy foods. 7.Food with “Skins” When reheating foods with a skin such as fish,chicken or baked beans, reduce the power to alower setting to prevent the food from heating tooquickly and “exploding”. 8.Heating two dishes together It is possible to reheat two products with the sameheating time together. For example, two ChickenCurries with a reheating time of 4 minutes each orone Taglatelle Carbonara and one moussaka, bothof which have a heating time of 4 minutes each.\\n* Tips for Reheating your own Homemade Foods Serving foods prepared in-house gives a homemade quality to the menu and allows for seasonality. However, for best results, follow the tips below if they are to be regenerated in your Panasonic Combi Oven. 1.Overcooking Do not overcook vegetables - slightly undercook them, and they will finish cooking during the reheating time. 2.Sauces Make any foods in sauces with lighter gravies rather than heavy, thick ones, as this helps the food heat evenly. 3.Plated Meals To ensure even heating arrange the singlecomponent foods of a plated meal carefully. Place denser foods, such as whole vegetablesand portions of meat or fish, to the outside of theplate, and smaller items, towards the centre. Do not pile foods up but keep them in a singlelayer; mashed patato should be spread out ratherthan mounded up. The food can look attactive butalways give the Microwave a chance to heatevenly and thoroughly. 4.Vegetables Dot vegetables with butter and pour gravy over themeat to prevent drying out and to help with evenheating. 5.Rice Arrange meat sauces served with rice, side byside rather than in the traditional circle of rice withthe sauce in the centre. The sauce should beflattened slightly, whilst the rice is piled up. 6.Potato Topped Pies Potato-topped pies and au gratin dishes, egCottage Pie, are difficult to reheat as theconsistency of the potato will heat faster. Alwaysensure the filling is deeper than the potato. 7.Stirring Stir any sauce- based foods before heating,particularly if they have been defrosted. Thisensures any icy particles or cold areas are fullybroken up and the food is of an even temperature. 8.Browning/Finishing Dishes If you are preparing dishes in bulk for freezing orrefrigeration, don’t forget that because yourPanasonic Combi is a microwave andconventional oven, you can choose to brownfoods at the end of preparation but before storing,or store unbrowned and reheat on CONVECTION.9.Heating two dishes together  If you wish to reheat more than one dish, placethem side by side on the base of the cavity andNEVER use the Wire Rack Shelf for reheating on 2 levels. 10.Heating Times It is impossible to give the heating time of anindividual plated meal as each will contain adifferent variety of foods in differing quantities.Follow the arranging tips already mentioned andensure the thickest piece of food has reached 72°C. Reheating by MicrowaveMicrowave\\n\\n Q: A part of my food heats up but the other part doesn\\'t, what do I do?\\n A:', 'ref': ['Common Problems', 'Affects of the foodsReheating by Microwave', 'Tips for Reheating your own Homemade Foods']}\n"
          ]
        }
      ]
    },
    {
      "cell_type": "markdown",
      "source": [
        "## Generate output based on prompt"
      ],
      "metadata": {
        "id": "WntcEfCJRBm3"
      }
    },
    {
      "cell_type": "code",
      "source": [
        "def create_reference(df, indexes):\n",
        "  references = []\n",
        "  for index in indexes:\n",
        "    reference = \"Page \" + str(df.loc[index].pg_number) + \": \" + index\n",
        "    references.append(reference)\n",
        "  return \"\\n\\nReferenced from: \" + (\"\\n\").join(references)\n",
        "\n",
        "def answer_query_with_context_chatgpt(\n",
        "    query,\n",
        "    df,\n",
        "    document_embeddings,\n",
        "    show_prompt=False,\n",
        "    show_diagnostic=False,\n",
        "    show_reference=True\n",
        "):\n",
        "    prompt = construct_prompt(\n",
        "        query,\n",
        "        document_embeddings,\n",
        "        df,\n",
        "        show_diagnostic\n",
        "    )\n",
        "\n",
        "    message = BASE_MESSAGE + [{\"role\":\"user\", \"content\":prompt[\"prompt\"]}]\n",
        "\n",
        "    if show_prompt:\n",
        "        print(message)   \n",
        "\n",
        "    if show_reference:\n",
        "      reference_text = create_reference(df, prompt[\"ref\"])\n",
        "    else:\n",
        "      reference_text = \"\"\n",
        "\n",
        "    response = openai.ChatCompletion.create(\n",
        "                messages=message,\n",
        "                **CHAT_COMPLETIONS_API_PARAMS\n",
        "            )\n",
        "    \n",
        "    full_response = response[\"choices\"][0][\"message\"][\"content\"] + reference_text\n",
        "\n",
        "    return {\"response\" : full_response, \"query\" : message}"
      ],
      "metadata": {
        "colab": {
          "base_uri": "https://localhost:8080/",
          "height": 17
        },
        "id": "W4kdEJlFiA_R",
        "outputId": "a47be224-e629-4e01-e599-8d3c519eff94"
      },
      "execution_count": 88,
      "outputs": [
        {
          "output_type": "display_data",
          "data": {
            "text/plain": [
              "<IPython.core.display.HTML object>"
            ],
            "text/html": [
              "\n",
              "  <style>\n",
              "    pre {\n",
              "        white-space: pre-wrap;\n",
              "    }\n",
              "  </style>\n",
              "  "
            ]
          },
          "metadata": {}
        }
      ]
    },
    {
      "cell_type": "code",
      "source": [
        "answer_query_with_context_chatgpt(QUERY, pdf_sections, document_embeddings, True, True, True)"
      ],
      "metadata": {
        "colab": {
          "base_uri": "https://localhost:8080/",
          "height": 608
        },
        "id": "ZN1hZGD4jA9y",
        "outputId": "10899253-0480-4a49-b728-b2c8a389e1bd"
      },
      "execution_count": 93,
      "outputs": [
        {
          "output_type": "display_data",
          "data": {
            "text/plain": [
              "<IPython.core.display.HTML object>"
            ],
            "text/html": [
              "\n",
              "  <style>\n",
              "    pre {\n",
              "        white-space: pre-wrap;\n",
              "    }\n",
              "  </style>\n",
              "  "
            ]
          },
          "metadata": {}
        },
        {
          "output_type": "stream",
          "name": "stdout",
          "text": [
            "Selected 2 document sections:\n",
            "Common Problems\n",
            "Affects of the foodsReheating by Microwave\n",
            "[{'role': 'system', 'content': 'You are a kind helpful assistant'}, {'role': 'user', 'content': 'Answer the question as truthfully as possible using the provided context, and if the answer is not contained within the text below, say \"I don\\'t know.\"\\n\\nContext:\\n\\n* Common Problems PROBLEM SOLUTION Food cools quickly after Microwave or Combination cooking. Foods take longer to cook, defrost or reheat than stated. Liquids boil over when cooked by  microwave or combination.Vegetables become wrinkly and hard when cooked/reheated by  microwave.Foods heat unevenly. Only one side of cavity heats. Foods heated by microwave are  hard and tough.Foods “explode” during heating. Foods that have been defrosteddo not heat in the centre.Return to oven for additional cooking. Check oven is plugged into its own 13amp socket. Do not use extension  cable or adapters.The stated times are only a guide.Heating will be improved with the use ofcorrect containers and arranging. Remember to vary the heating, if the  food is colder or heavier than stated.Ensure the oven is cleaned regularly. Use a container twice the volume of the  liquid.Allow standing time when cooking andslightly undercook vegetables, if they  are to be reheated.Arrange foods, so that thicker parts are on the outside of the plate and smaller foods to the centre. Do not heat very dense foods with porous foods as the later will heat faster. Rearrange foods as above. It is impossible for only one side of the cavity to receive microwaves as the energy is distributed by a rotating guide.if the magnetron is no longer working  all food will remain cold.Reduce the time or power with more  delicate foods. Reduce power level.Pierce skins on foods to release pressure build up during heating.  NEVER try to boil eggs in shells.Check that foods are between 1-4°C before going on to reheat. If the edges of the food are getting too warm shield with foil. (See page 49.) CAUSE Food insufficiently heated. Oven not receiving enough power. Food type, size, weight,temperature not exactly as stated. Oven dirty and food debris is absorbing the microwave  energy.Containers too small. Vegetables over-cooked. Foods incorrectly arranged or incompatible foods are being heated together. Foods incorrectly arranged. Foods overcooked. Power level too high.Skins of foods i.e potatoes, chicken are not pierced. Foods have not been sufficiently defrosted orallowed to stand beforereheating.This section tries to solve any common problems you may have. Remember to always keep your Operating Guide on hand for reference.\\n* Affects of the foodsReheating by Microwave 9.Doubling Quantities A reheating time is based on weight and usually atime is given for a particular quantity of food, i.e.11oz Lasagne takes 2 minutes. When the numberof portions to be heated together doubles, then thereheating time will need to be increased by 75-100%. Two portions will take 4 minutes 30seconds to 5 minutes. Generally two lightertextured products such as pastries will take the shorter time, whilsttwo denser products such as Lasagne will take thelonger time. 10.Frozen Foods For speed, some foods can be reheated fromfrozen but they must be foods that can beSTIRRED eg meat sauce, Chilli con Carne. Setthe total reheat time but open the door to stirregularly.DO NOT COVER.AVOID REHEATING solid foods that cannot bestirred, eg Lasagnes/Shepherds Pies from frozen.Avoid reheating PLATED MEALS from frozen. .1.Starting Temperature The colder the food the longer it will take to heat to72°C. Extra time must be allowed if food has beendefrosted as the centre may still be icy. 2.Headspace When heating liquids, ensure they do notcompletely fill their containers; a headspace allowsthe liquids to be stirred during and at the end ofthe heating time without spillage. 3.Covering foods A container covered with either cling film, a plasticplate cover or even the lid to the dish, will heatfractionally faster then an uncovered dish. Do notcover foods which require a drier texture, such aspastries, as the steam that becomes trappedunder the cover will cause the food to go soggy. 4.Crisp Foods Reheat pastry and bread items, such as sausagerolls, pies and croissants, on a plastic rack toreduce the chance of “sogginess”. The rack allowsthe air to circulate beneath the food and removesteam which causes moist, limp pastry. YourPanasonic Combi offers a COMBINATION facilitywhich will help crisp pastry items as they reheat. 5.Uneven shapes When heating uneven shaped pieces of food,place the thick part of one piece against the thinpart of the second. This helps the food to heatmore evenly. 6.Porous Foods/Dense foods Porous foods reheat more quickly than denseheavy foods. 7.Food with “Skins” When reheating foods with a skin such as fish,chicken or baked beans, reduce the power to alower setting to prevent the food from heating tooquickly and “exploding”. 8.Heating two dishes together It is possible to reheat two products with the sameheating time together. For example, two ChickenCurries with a reheating time of 4 minutes each orone Taglatelle Carbonara and one moussaka, bothof which have a heating time of 4 minutes each.\\n\\n Q: A part of my food heats up but the other part doesn\\'t, what do I do?\\n A:'}]\n"
          ]
        },
        {
          "output_type": "execute_result",
          "data": {
            "text/plain": [
              "'Arrange the food so that thicker parts are on the outside of the plate and smaller foods are in the center. Do not heat very dense foods with porous foods as the latter will heat faster. Rearrange the food as above. It is impossible for only one side of the cavity to receive microwaves as the energy is distributed by a rotating guide.\\n\\nReferenced from: Page 76: Common Problems\\nPage 42: Affects of the foodsReheating by Microwave'"
            ],
            "application/vnd.google.colaboratory.intrinsic+json": {
              "type": "string"
            }
          },
          "metadata": {},
          "execution_count": 93
        }
      ]
    },
    {
      "cell_type": "code",
      "source": [
        "# completion with text-davinci-003, 10x more expensive than chatgpt\n",
        "\n",
        "# COMPLETIONS_API_PARAMS = {\n",
        "#     # We use temperature of 0.0 because it gives the most predictable, factual answer.\n",
        "#     \"temperature\": 0.0,\n",
        "#     \"max_tokens\": 300,\n",
        "#     \"model\": COMPLETIONS_MODEL,\n",
        "# }\n",
        "\n",
        "# def answer_query_with_context(\n",
        "#     query,\n",
        "#     df,\n",
        "#     document_embeddings,\n",
        "#     show_prompt=False,\n",
        "#     show_diagnostic=False\n",
        "# ):\n",
        "#     prompt = construct_prompt(\n",
        "#         query,\n",
        "#         document_embeddings,\n",
        "#         df,\n",
        "#         show_diagnostic\n",
        "#     )\n",
        "    \n",
        "#     if show_prompt:\n",
        "#         print(prompt, \"\\n\")\n",
        "\n",
        "#     response = openai.Completion.create(\n",
        "#                 prompt=prompt,\n",
        "#                 **COMPLETIONS_API_PARAMS\n",
        "#             )\n",
        "\n",
        "#     return response[\"choices\"][0][\"text\"].strip(\" \\n\")"
      ],
      "metadata": {
        "colab": {
          "base_uri": "https://localhost:8080/",
          "height": 17
        },
        "id": "yZPO2Nx-RKjd",
        "outputId": "bd0af6d3-4e19-4d8e-e236-4948a9067d5b"
      },
      "execution_count": null,
      "outputs": [
        {
          "output_type": "display_data",
          "data": {
            "text/plain": [
              "<IPython.core.display.HTML object>"
            ],
            "text/html": [
              "\n",
              "  <style>\n",
              "    pre {\n",
              "        white-space: pre-wrap;\n",
              "    }\n",
              "  </style>\n",
              "  "
            ]
          },
          "metadata": {}
        }
      ]
    },
    {
      "cell_type": "code",
      "source": [
        "# answer_query_with_context(QUERY2, pdf_sections, document_embeddings, True, True)"
      ],
      "metadata": {
        "colab": {
          "base_uri": "https://localhost:8080/",
          "height": 383
        },
        "id": "OEne-itvRQc4",
        "outputId": "49f28dcc-cc78-441e-9486-17d9cd2fde64"
      },
      "execution_count": null,
      "outputs": [
        {
          "output_type": "display_data",
          "data": {
            "text/plain": [
              "<IPython.core.display.HTML object>"
            ],
            "text/html": [
              "\n",
              "  <style>\n",
              "    pre {\n",
              "        white-space: pre-wrap;\n",
              "    }\n",
              "  </style>\n",
              "  "
            ]
          },
          "metadata": {}
        },
        {
          "output_type": "stream",
          "name": "stdout",
          "text": [
            "Selected 1 document sections:\n",
            "Common Problems\n",
            "Answer the question as truthfully as possible using the provided context, and if the answer is not contained within the text below, say \"I don't know.\"\n",
            "\n",
            "Context:\n",
            "\n",
            "* Common Problems PROBLEM SOLUTION Food cools quickly after Microwave or Combination cooking. Foods take longer to cook, defrost or reheat than stated. Liquids boil over when cooked by  microwave or combination.Vegetables become wrinkly and hard when cooked/reheated by  microwave.Foods heat unevenly. Only one side of cavity heats. Foods heated by microwave are  hard and tough.Foods “explode” during heating. Foods that have been defrosteddo not heat in the centre.Return to oven for additional cooking. Check oven is plugged into its own 13amp socket. Do not use extension  cable or adapters.The stated times are only a guide.Heating will be improved with the use ofcorrect containers and arranging. Remember to vary the heating, if the  food is colder or heavier than stated.Ensure the oven is cleaned regularly. Use a container twice the volume of the  liquid.Allow standing time when cooking andslightly undercook vegetables, if they  are to be reheated.Arrange foods, so that thicker parts are on the outside of the plate and smaller foods to the centre. Do not heat very dense foods with porous foods as the later will heat faster. Rearrange foods as above. It is impossible for only one side of the cavity to receive microwaves as the energy is distributed by a rotating guide.if the magnetron is no longer working  all food will remain cold.Reduce the time or power with more  delicate foods. Reduce power level.Pierce skins on foods to release pressure build up during heating.  NEVER try to boil eggs in shells.Check that foods are between 1-4°C before going on to reheat. If the edges of the food are getting too warm shield with foil. (See page 49.) CAUSE Food insufficiently heated. Oven not receiving enough power. Food type, size, weight,temperature not exactly as stated. Oven dirty and food debris is absorbing the microwave  energy.Containers too small. Vegetables over-cooked. Foods incorrectly arranged or incompatible foods are being heated together. Foods incorrectly arranged. Foods overcooked. Power level too high.Skins of foods i.e potatoes, chicken are not pierced. Foods have not been sufficiently defrosted orallowed to stand beforereheating.This section tries to solve any common problems you may have. Remember to always keep your Operating Guide on hand for reference.\n",
            "\n",
            " Q: A part of my food heats up but the other part doesn't, what do I do?\n",
            " A: \n",
            "\n"
          ]
        },
        {
          "output_type": "execute_result",
          "data": {
            "text/plain": [
              "'Rearrange foods, so that thicker parts are on the outside of the plate and smaller foods to the centre. Do not heat very dense foods with porous foods as the later will heat faster.'"
            ],
            "application/vnd.google.colaboratory.intrinsic+json": {
              "type": "string"
            }
          },
          "metadata": {},
          "execution_count": 46
        }
      ]
    },
    {
      "cell_type": "code",
      "source": [
        "# print(QUERY1, \"\\n\")\n",
        "# answer_query_with_context(QUERY1, pdf_sections, document_embeddings)"
      ],
      "metadata": {
        "colab": {
          "base_uri": "https://localhost:8080/",
          "height": 70
        },
        "id": "KWB_KSJeSeSX",
        "outputId": "76fa128f-309a-43b3-ae58-814b3df00d5c"
      },
      "execution_count": null,
      "outputs": [
        {
          "output_type": "display_data",
          "data": {
            "text/plain": [
              "<IPython.core.display.HTML object>"
            ],
            "text/html": [
              "\n",
              "  <style>\n",
              "    pre {\n",
              "        white-space: pre-wrap;\n",
              "    }\n",
              "  </style>\n",
              "  "
            ]
          },
          "metadata": {}
        },
        {
          "output_type": "stream",
          "name": "stdout",
          "text": [
            "How to turn on the microwave \n",
            "\n"
          ]
        },
        {
          "output_type": "execute_result",
          "data": {
            "text/plain": [
              "'Open Door. Put in Food. Close Door. Select Power Level. Press Microwave Pad to select correct power. Select Time. Press Number Pads to set a heating time. Press Start Pad.'"
            ],
            "application/vnd.google.colaboratory.intrinsic+json": {
              "type": "string"
            }
          },
          "metadata": {},
          "execution_count": 51
        }
      ]
    }
  ]
}